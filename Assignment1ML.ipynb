{
  "nbformat": 4,
  "nbformat_minor": 0,
  "metadata": {
    "colab": {
      "provenance": [],
      "authorship_tag": "ABX9TyMqp8Sxcr/HBnqXDsu1QPmZ",
      "include_colab_link": true
    },
    "kernelspec": {
      "name": "python3",
      "display_name": "Python 3"
    },
    "language_info": {
      "name": "python"
    }
  },
  "cells": [
    {
      "cell_type": "markdown",
      "metadata": {
        "id": "view-in-github",
        "colab_type": "text"
      },
      "source": [
        "<a href=\"https://colab.research.google.com/github/nsricharan/MLAssignment1/blob/main/Assignment1ML.ipynb\" target=\"_parent\"><img src=\"https://colab.research.google.com/assets/colab-badge.svg\" alt=\"Open In Colab\"/></a>"
      ]
    },
    {
      "cell_type": "markdown",
      "source": [
        "**Numpy**"
      ],
      "metadata": {
        "id": "MUl3yXMBbww2"
      }
    },
    {
      "cell_type": "markdown",
      "source": [
        "Importing the Numpy"
      ],
      "metadata": {
        "id": "86WA-RmzyDDK"
      }
    },
    {
      "cell_type": "code",
      "execution_count": 2,
      "metadata": {
        "id": "vBS7j0ZtZ6Ki"
      },
      "outputs": [],
      "source": [
        "import numpy as np"
      ]
    },
    {
      "cell_type": "markdown",
      "source": [
        "Creating a random vector of size 15 having only Integers in the range 1-20.\n"
      ],
      "metadata": {
        "id": "RLXh1tkBbpLs"
      }
    },
    {
      "cell_type": "code",
      "source": [
        "v1 = np.random.randint(1, 21, size=15)\n",
        "print(v1)"
      ],
      "metadata": {
        "id": "I-htCvcjcZR4"
      },
      "execution_count": null,
      "outputs": []
    },
    {
      "cell_type": "markdown",
      "source": [
        "Reshaping the array to 3 by 5"
      ],
      "metadata": {
        "id": "-iCzrB3Dc5lr"
      }
    },
    {
      "cell_type": "code",
      "source": [
        "v2 = v1.reshape(3, 5)\n",
        "print(v2)"
      ],
      "metadata": {
        "id": "T87zGgPRdDS5"
      },
      "execution_count": null,
      "outputs": []
    },
    {
      "cell_type": "markdown",
      "source": [
        "Printing the Array Shape"
      ],
      "metadata": {
        "id": "ysRbqYSsex_L"
      }
    },
    {
      "cell_type": "code",
      "source": [
        "print(v2.shape)"
      ],
      "metadata": {
        "id": "1gfz7eq0e33G"
      },
      "execution_count": null,
      "outputs": []
    },
    {
      "cell_type": "markdown",
      "source": [
        "Replacing the max in each row by 0"
      ],
      "metadata": {
        "id": "gs0lEDwAe-9q"
      }
    },
    {
      "cell_type": "code",
      "source": [
        "max_indices = np.argmax(v2, axis=1)\n",
        "v2[np.arange(len(v2)), max_indices] = 0\n",
        "print(v2)"
      ],
      "metadata": {
        "id": "Msfe3ZCBfH8M"
      },
      "execution_count": null,
      "outputs": []
    },
    {
      "cell_type": "markdown",
      "source": [
        "Creating a 2-dimensional array of size 4 x 3 (composed of 4-byte integer elements), also print the shape, type and data type of the array"
      ],
      "metadata": {
        "id": "KPo7tXUfVM7-"
      }
    },
    {
      "cell_type": "code",
      "source": [
        "import numpy as np\n",
        "\n",
        "# Creating the array\n",
        "ar = np.zeros((4, 3), dtype=np.int32)\n",
        "\n",
        "# Print the shape, type, and data type\n",
        "print(\"Shape:\", ar.shape)\n",
        "print(\"Type:\", type(ar))\n",
        "print(\"Data Type:\", ar.dtype)"
      ],
      "metadata": {
        "id": "pVvxoKgJVvq1"
      },
      "execution_count": null,
      "outputs": []
    },
    {
      "cell_type": "markdown",
      "source": [
        "A program to compute the eigenvalues and right eigenvectors of a given square array given below:\n",
        "[[ 3 -2]\n",
        "[ 1 0]]"
      ],
      "metadata": {
        "id": "O9oFltWZX1eu"
      }
    },
    {
      "cell_type": "code",
      "source": [
        "# Array Declaration\n",
        "arr1 = np.array([[3, -2], [1, 0]])\n",
        "\n",
        "# Compute eigenvalues and eigenvectors\n",
        "egvals, egvctr = np.linalg.eig(arr1)\n",
        "\n",
        "# Print the results\n",
        "print(\"Eigenvalues:\", egvals)\n",
        "print(\"Right Eigenvectors:\")\n",
        "for i, egvctr in enumerate(egvctr.T):\n",
        "    print(f\"Eigenvector {i+1}:\", egvctr)\n"
      ],
      "metadata": {
        "id": "EycXiyGAuGnC"
      },
      "execution_count": null,
      "outputs": []
    },
    {
      "cell_type": "markdown",
      "source": [
        "Sum of the diagonal element of a given array.\n",
        "[[0 1 2]\n",
        "[3 4 5]]"
      ],
      "metadata": {
        "id": "IDtrNXn4u8gq"
      }
    },
    {
      "cell_type": "code",
      "source": [
        "#Array Declaration\n",
        "arr2 = np.array([[0, 1, 2], [3, 4, 5]])\n",
        "\n",
        "# Sum of diagonal elements\n",
        "dg_sum = np.trace(arr2)\n",
        "\n",
        "# Print the result\n",
        "print(\"Sum of diagonal elements:\", dg_sum)"
      ],
      "metadata": {
        "id": "kY1qkwBovBrN"
      },
      "execution_count": null,
      "outputs": []
    },
    {
      "cell_type": "markdown",
      "source": [
        "Program to create a new shape to an array without changing its data.\n",
        "Reshape 3x2:\n",
        "[[1 2]\n",
        "[3 4]\n",
        "[5 6]]\n"
      ],
      "metadata": {
        "id": "G6AKCcHLv_NM"
      }
    },
    {
      "cell_type": "code",
      "source": [
        "# Array Declaration\n",
        "arr3 = np.array([[1, 2, 3], [4, 5, 6]])\n",
        "\n",
        "# Reshape to 3x2\n",
        "reshaped_arr = arr3.reshape(3, 2)\n",
        "\n",
        "print(\"Reshaped Array:\\n\", reshaped_arr)"
      ],
      "metadata": {
        "id": "Trg24TauwGbJ"
      },
      "execution_count": null,
      "outputs": []
    },
    {
      "cell_type": "markdown",
      "source": [
        "Reshape 2x3:\n",
        "[[1 2 3]\n",
        "[4 5 6]]"
      ],
      "metadata": {
        "id": "sl0AWRm0wRQN"
      }
    },
    {
      "cell_type": "code",
      "source": [
        "# Reshape to 2x3\n",
        "reshaped_arr2 = reshaped_arr.reshape(2,3)\n",
        "\n",
        "print(\"Reshaped Array:\\n\", reshaped_arr2)"
      ],
      "metadata": {
        "id": "q-ogdYjGwUcy"
      },
      "execution_count": null,
      "outputs": []
    },
    {
      "cell_type": "markdown",
      "source": [
        "**Matplotlib**\n",
        "1. Write a Python programming to create a below chart of the popularity of programming Languages.\n",
        "2. Sample data:\n",
        "Programming languages: Java, Python, PHP, JavaScript, C#, C++\n",
        "Popularity: 22.2, 17.6, 8.8, 8, 7.7, 6.7"
      ],
      "metadata": {
        "id": "U8MgEiaCxTE8"
      }
    },
    {
      "cell_type": "code",
      "source": [
        "import matplotlib.pyplot as plt\n",
        "\n",
        "# Declaring the data\n",
        "languages = ['Java', 'Python', 'PHP', 'JavaScript', 'C#', 'C++']\n",
        "popularity = [22.2, 17.6, 8.8, 8, 7.7, 6.7]\n",
        "\n",
        "# Designing a pie chart\n",
        "plt.pie(popularity, labels=languages, autopct='%1.1f%%')\n",
        "\n",
        "# Displaying the chart\n",
        "plt.show()\n"
      ],
      "metadata": {
        "id": "mbcDudb7xZhC"
      },
      "execution_count": null,
      "outputs": []
    }
  ]
}